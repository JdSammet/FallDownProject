{
  "nbformat": 4,
  "nbformat_minor": 0,
  "metadata": {
    "colab": {
      "name": "Proyecto Detector de Caída",
      "provenance": [],
      "collapsed_sections": []
    },
    "kernelspec": {
      "name": "python3",
      "display_name": "Python 3"
    }
  },
  "cells": [
    {
      "cell_type": "markdown",
      "metadata": {
        "id": "Fo8E1Kny9FHC",
        "colab_type": "text"
      },
      "source": [
        "# Detector de Caídas - Proyecto 1"
      ]
    },
    {
      "cell_type": "markdown",
      "metadata": {
        "id": "YHd0C8xM9Qno",
        "colab_type": "text"
      },
      "source": [
        "**Presentador por:**\n",
        "---\n",
        "\n",
        "---\n",
        "- **Juan Daniel Gomez Ríos.**\n",
        "- Estudiante de Ciencias de la Computación de la Universidad Nacional de Colombia.\n",
        "- Email: judgomezri@unal.edu.co\n",
        "- Google Site: \n",
        "\n",
        "---\n",
        "\n",
        "- **Juan Esteban Cepeda Baena.**\n",
        "- Estudiante de Ciencias de la Computación y Administración de Empresas de la Universidad Nacional de Colombia.\n",
        "- Email: jecepedab@unal.edu.co / juancepeda.gestion@gmail.com\n",
        "- Google Site: https://sites.google.com/view/juancepeda/"
      ]
    },
    {
      "cell_type": "markdown",
      "metadata": {
        "id": "7IL7pHii9uOU",
        "colab_type": "text"
      },
      "source": [
        "**1. Introducción**\n",
        "\n",
        "---\n",
        "La detección de caídas juega un papel fundamental para la administración de riesgos relacionados con la salud y la integridad de personas que tienen una mayor probabilidad de sufrir este tipo de accidentes, a saber: ancianos, ciclistas, trabajadores de construcción, entre otros. Así, en la medida en que es posible detectar si una persona ha sufrido una caída,\n",
        "esto le permite a los organismos de socorro poder intervenir en la situación con mayor prontitud y auxiliar al/a la afectad@. La posibilidad de obtener ayuda inmediata incrementa significativamente las posibilidades de que el/la afectad@ pueda recuperarse satisfactoriamente del siniestro.\n",
        "\n",
        "El presente trabajo aborda la conceptualización y desarrollo de un algorítmo de inteligencia artificial (Naive Bayes) capaz de identificar cuando un dispositivo móvil se ha caído. Esta aplicación, utiliza, procesa y analiza información relacionada con los sensóres de un dispositivo móvil, en particular, el acelerómetro, del cual obtiene una serie de señales que son procesadas y analizadas por medio de la transformación de Fourier, que corresponde al criterio fundamental para clasificar la señal. En caso en que la señal se identifique como una caída, la aplicación procede a enviar un correo electrónico, el cual informa a los usuarios de la lista de correos acerca de la fecha, hora y lugar del accidente."
      ]
    },
    {
      "cell_type": "markdown",
      "metadata": {
        "id": "F92fiRTh-FzS",
        "colab_type": "text"
      },
      "source": [
        "**2. Materiales y métodos**\n",
        "\n",
        "---\n",
        "**2.1 Modelo Naive Bayes**: \n",
        "El clasificador \"Naive Bayes\" (o en español, clasificador bayesiano ingenuo), corresponde a un modelo de aprendizaje de máquina supervisado, el cual a partir de un conjunto de datos de entrenamiento, es capaz de clasificar nuevas observaciones de acuerdo a la similitud y comparación de sus características respecto a los datos de entrenamiento (cuya categoría se define en la etapa de entrenamiento), permitiendo asignarle una categoría. Como su nombre lo indica, este modelo de aprendizaje de máquina se fundamenta en el Teorema de Bayes (Imagen 1), el cual relaciona las probabilidades condicionales de dos eventos\n",
        "\n",
        "<img src=\"https://uc-r.github.io/public/images/analytics/naive_bayes/naive_bayes_icon.png\" width=\"400\" height = \"230\">\n",
        "\n",
        "*Imagen 1. Teorema de Bayes. Recuperado de: https://uc-r.github.io/naive_bayes*\n",
        "\n",
        "**2.2 Modelo Numérico**: \n",
        "\n",
        "*   **A. Sensado:** Los sensores son la principal fuente de información para todo tipo de proyecto. Para este caso nos hemos apoyado en los acelerómetros, presentes en toda clase de celulares. Se trata de un sensor capaz de medir el desplazamiento de resortes o placas. Cada vez que se aplica una fuerza, en este caso aceleración, los resortes generarán un movimiento que cambiará su capacitancia que es justamente la que permite determinar los valores de la aceleración.\n",
        "\n",
        "<img src=\"https://static.wixstatic.com/media/36ad7e_d74cc58231e5432fb08cbcd6899bb2ac~mv2.jpg/v1/fill/w_290,h_253,al_c,q_80,usm_0.66_1.00_0.01/36ad7e_d74cc58231e5432fb08cbcd6899bb2ac~mv2.jpg\" width=\"350\" height = \"230\"><br>\n",
        "*Figura X. Acelerometro. Recuperado de: https://jlgarcia48.wixsite.com*<br>\n",
        "<br><img src=\"https://i1.wp.com/www.ingmecafenix.com/wp-content/uploads/2017/10/Esquema-acelerometro-capacitivo.jpg?ssl=1\" width=\"350\" height = \"230\">\n",
        "\n",
        "*Figura Y. Movimiento de las placas en un acelerómetro. Recuperado de: https://blog.330ohms.com/2019/08/16/tutorial-microbit-3-como-utilizar-el-acelerometro/*\n",
        "\n",
        "*   **B. Procesamiento de la señal:** La aplicación móvil **IMU+GPS-Stream** nos permite ejecutar un [Protocolo UDP](https://es.wikipedia.org/wiki/Protocolo_de_datagramas_de_usuario) para crear una conexión entre un móvil y un computador a través de un servidor creado temporalmente haciendo uso de la libreria **Socket** y al cuál se puede acceder con la Ip y un código de puerto.\n",
        "\n",
        "\n",
        "<img src=\"https://i0.wp.com/rufianenlared.com/wp-content/uploads/2018/02/FFT_of_Cosine_Summation_Function.png?resize=876%2C558\n",
        "\" width=\"350\" height = \"230\">\n",
        "\n",
        "*Figura X. Transformada de Fourier. Recuperado de: http://rufianenlared.com/fft/*\n",
        "\n",
        "\n",
        "\n",
        "*   **C. Entrenamiento:** Haremos uso de un método de aprendizaje de máquina supervisado que consiste en la captura de datos manualmente etiquetados tal que, algorítmicamente, al procesar un nuevo dato, el programa asigne o prediga la etiqueta correspondiente a esa nueva entrada.\n",
        "\n",
        "*   **D. Clasificación:** Haciendo uso de la teoría de [Transformada de fourier](https://es.wikipedia.org/wiki/Transformada_de_Fourier) y el [Modelo Naive Bayes](http://naivebayes.blogspot.com/), así como del método de entrenamiento supervisado, interpretaremos nuevos datos para clasificarlos en las categorías \"quieto\", \"en movimiento\" o \"caída\".\n",
        "\n",
        "\n",
        "\n",
        "\n"
      ]
    },
    {
      "cell_type": "markdown",
      "metadata": {
        "id": "cGzUCvDm-eMB",
        "colab_type": "text"
      },
      "source": [
        "**2.3 Herramientas computacionales:**\n",
        "\n",
        "Las herramientas computacionales o librerías utilizadas para el desarrollo del proyecto fueron: 1) Numpy, 2) google.colab, 3) Matplotlib, 4) Math, 5) Pandas, 6) Warnings, 7) Folium, 8) Socket, 9)stmplib, 10)ssl, 11)email y 12)geopy. A continuación se explica qué son y cómo fueron utilizadas:\n",
        "\n",
        "1.   **Numpy**: es una de las librerías más importante de Python, encargada de incorporar funcionalidades de carácter matemático y vectorial. Para términos del proyecto, se utilizó para calcular la transformada de Fourier sobre una serie de funciones correspondientes a las ondas registradas por el acelerometro, cuyo análisis y procesamiento permitió establecer un estándar de comparación para el modelo de clasificación. En concreto, se utilizó el método ***numpy.fft.rfft***, el cual computa la transformada de Fourier de una entrada de valores reales.\n",
        "\n",
        "\n",
        "2.   **google.colab:** corresponde a la librería integrada por defecto al entorno de ejecución Colaboraty. Entre otras cosas, esta librería permite acceder al sistema de archivos de Google Drive, facultando al usuario para crear, manipular y eliminar archivos localmente.\n",
        "\n",
        "3.   **Matplotlib:** Matplotlib es una librería gráfica que permite generar figuras de alta calidad, con gran variedad de formatos y ambientes interactivos. Para términos del proyecto se utilizaron las siguientes subclases: 1) animation (la cual permite generar animaciones o gráficas interactivas), 2) pyplot (que incorpora a la librería gráfica funcionalidades de numpy) y 3) rc (que corresponde a una subclase de pyplot, encargada de parametrizar características visuales de las gráficas). Esta librería de utilizó para representar gráficamente los resultados obtenidos con la transformada de Fourier y la distribución de los datos de entrenamiento de acuerdo a su cateogoría.\n",
        "\n",
        "4.   **Math:** corresponde a una librería de Python que provee acceso a las funciones matemáticas definidas por el estándar de C. Esta librería se utilizó para calcular las distancias entre dos partículas antes de una colisión, y para calcular el ángulo de incidencia de las mismas al momento de su encuentro. Entre las funciones utilizadas se encuentra: sqrt, degrees, asin, radians, entre otros.\n",
        "\n",
        "5.   **Pandas:** es una extensión de Numpy desarrollada para la manipulación y análisis de datos en Python. Ofrece estructuras de datos y operaciones para manipular tablas numéricas y series temporales. Pandas se utilizó para almacenar los vectores de características de las distintas imágenes del conjunto de entrenamiento y de prueba.\n",
        "\n",
        "6.   **Warnings:** corresponde a una librería de Python que le permite al usuario definir y administrar alertas de error o advertencias de acuerdo a un conjunto de condiciones. Para efectos de este proyecto, se utilizó para ignorar algunas advertencias señaladas por python al momento de realizar cálculos relacionados con la clasificación de nuevas observaciones.\n",
        "\n",
        "7.   **Folium:** es una librería que potencia la gestión y manipulación de datos en Python, permitiendo su visualización a través de un \"Leaflet map\". Esta API se utilizó para generar dinámicamente los mapas relacionados con el lugar en donde se detectaba la caída del dispositivo móvil asociado a la aplicación.\n",
        "\n",
        "8.   **Socket:** Este módulo de Python provee acceso a una interfaz de comunicación entre aplicaciones, disponible para sistemas modernos de Unix, Windows, MacOS, entre otros. Para efectos del proyecto, se utilizó para transmitir los datos ofrecidos por el celular (acelerometro) a Python, para su debido procesamiento y análisis. De manera específica, se utilizó el protocolo UDP (esto es, el protocolo de datagramas de usuario). Lo anterior, se explicó detalladamente en el numeral anterior.\n",
        "\n",
        "9.   **stmplib:** Esta librería permite definir un objeto de sesión cliente SMTP que puede ser utilizada para enviar correos a cualquier máquina de Internet con un puerto SMTP o ESMTP. Así, esta API se utilizó para enviar mensajes electrónicos a los correos registrados en la aplicación.\n",
        "\n",
        "10.  **ssl:** Este módulo provee aceso a una una Capa de Seguridad de Transporte encriptado y con autentificación, tanto del lado del cliente como del lado del servidor. Esta librería se utilizó de manera complementaria a la librería listada en el numeral 9, puesto a que corresponde a un requisito de Gmail para el envío de correos.\n",
        "\n",
        "11.  **email:** Este módulo corresponde a una librería por defecto en Python, que permite al usuario administrar y configurar el envió de mensajes por correo electrónico. Esta API fue utilizada para estructurar el mensaje, así como para añadir imágenes al mismo.\n",
        "\n",
        "12. **geopy:** Esta librería permite acceder a los datos de geolocalización dados por un par de puntos (latitud y longitud) proporcionados por las bases de datos de Google Maps, Bing Maps, o Nominatim (éste último usado en el presente proyecto). Se usará para complementar la información del correo.\n",
        "\n"
      ]
    },
    {
      "cell_type": "markdown",
      "metadata": {
        "id": "baJtgW7t_GXM",
        "colab_type": "text"
      },
      "source": [
        "**3. Resultados**\n",
        "\n",
        "---\n",
        "\n",
        "A continuación, se presenta el código del programa, los resultados del algorítmo de entrenamiento y el algortímo de prueba."
      ]
    },
    {
      "cell_type": "code",
      "metadata": {
        "id": "ro3kc6TvY-pN",
        "colab_type": "code",
        "outputId": "7936fae0-6592-49cb-a697-3a261e3a90fe",
        "colab": {
          "base_uri": "https://localhost:8080/",
          "height": 417
        }
      },
      "source": [
        "# Install folium & imgkit\n",
        "!pip install folium\n",
        "!pip install imgkit\n",
        "!pip install geopy"
      ],
      "execution_count": 0,
      "outputs": [
        {
          "output_type": "stream",
          "text": [
            "Requirement already satisfied: folium in /usr/local/lib/python3.6/dist-packages (0.8.3)\n",
            "Requirement already satisfied: jinja2 in /usr/local/lib/python3.6/dist-packages (from folium) (2.10.1)\n",
            "Requirement already satisfied: six in /usr/local/lib/python3.6/dist-packages (from folium) (1.12.0)\n",
            "Requirement already satisfied: numpy in /usr/local/lib/python3.6/dist-packages (from folium) (1.16.5)\n",
            "Requirement already satisfied: requests in /usr/local/lib/python3.6/dist-packages (from folium) (2.21.0)\n",
            "Requirement already satisfied: branca>=0.3.0 in /usr/local/lib/python3.6/dist-packages (from folium) (0.3.1)\n",
            "Requirement already satisfied: MarkupSafe>=0.23 in /usr/local/lib/python3.6/dist-packages (from jinja2->folium) (1.1.1)\n",
            "Requirement already satisfied: urllib3<1.25,>=1.21.1 in /usr/local/lib/python3.6/dist-packages (from requests->folium) (1.24.3)\n",
            "Requirement already satisfied: certifi>=2017.4.17 in /usr/local/lib/python3.6/dist-packages (from requests->folium) (2019.6.16)\n",
            "Requirement already satisfied: idna<2.9,>=2.5 in /usr/local/lib/python3.6/dist-packages (from requests->folium) (2.8)\n",
            "Requirement already satisfied: chardet<3.1.0,>=3.0.2 in /usr/local/lib/python3.6/dist-packages (from requests->folium) (3.0.4)\n",
            "Collecting imgkit\n",
            "  Downloading https://files.pythonhosted.org/packages/e0/84/690cbae32a105d22a212394690ef844e4471c78ed8f40c23a8c6d18606f7/imgkit-1.0.2.tar.gz\n",
            "Building wheels for collected packages: imgkit\n",
            "  Building wheel for imgkit (setup.py) ... \u001b[?25l\u001b[?25hdone\n",
            "  Created wheel for imgkit: filename=imgkit-1.0.2-cp36-none-any.whl size=6591 sha256=20221467b833390809803f7785978134a76b10f3f571507aa993d5c3952f754e\n",
            "  Stored in directory: /root/.cache/pip/wheels/64/34/8e/1719358e8263f9f33217b9f11d1a70d9e122b75afa5732f032\n",
            "Successfully built imgkit\n",
            "Installing collected packages: imgkit\n",
            "Successfully installed imgkit-1.0.2\n",
            "Requirement already satisfied: geopy in /usr/local/lib/python3.6/dist-packages (1.17.0)\n",
            "Requirement already satisfied: geographiclib<2,>=1.49 in /usr/local/lib/python3.6/dist-packages (from geopy) (1.49)\n"
          ],
          "name": "stdout"
        }
      ]
    },
    {
      "cell_type": "code",
      "metadata": {
        "id": "Yt4S0aSy1yeL",
        "colab_type": "code",
        "colab": {}
      },
      "source": [
        "# Import libraries.\n",
        "import pandas as pd\n",
        "import numpy as np\n",
        "import matplotlib.pyplot as plt\n",
        "import csv \n",
        "import math\n",
        "import warnings\n",
        "import socket\n",
        "import folium\n",
        "import imgkit\n",
        "import os\n",
        "\n",
        "warnings.filterwarnings(\"ignore\")"
      ],
      "execution_count": 0,
      "outputs": []
    },
    {
      "cell_type": "code",
      "metadata": {
        "id": "kzGtnuaqBRnw",
        "colab_type": "code",
        "colab": {}
      },
      "source": [
        "# Configure imgkit (only for Jupyter)\n",
        "#config = imgkit.config(wkhtmltoimage=bytes(\"C:/Program Files/wkhtmltopdf/bin/wkhtmltoimage.exe\", \"utf-8\"))"
      ],
      "execution_count": 0,
      "outputs": []
    },
    {
      "cell_type": "code",
      "metadata": {
        "id": "jzElIGoF1yiH",
        "colab_type": "code",
        "outputId": "6b7a56a3-f53d-40d1-b18f-ea3e2cd49271",
        "colab": {
          "base_uri": "https://localhost:8080/",
          "height": 124
        }
      },
      "source": [
        "# Mount drive in order to read files from it (only for Google Drive)\n",
        "from google.colab import drive\n",
        "drive.mount(\"/content/drive\")"
      ],
      "execution_count": 0,
      "outputs": [
        {
          "output_type": "stream",
          "text": [
            "Go to this URL in a browser: https://accounts.google.com/o/oauth2/auth?client_id=947318989803-6bn6qk8qdgf4n4g3pfee6491hc0brc4i.apps.googleusercontent.com&redirect_uri=urn%3Aietf%3Awg%3Aoauth%3A2.0%3Aoob&scope=email%20https%3A%2F%2Fwww.googleapis.com%2Fauth%2Fdocs.test%20https%3A%2F%2Fwww.googleapis.com%2Fauth%2Fdrive%20https%3A%2F%2Fwww.googleapis.com%2Fauth%2Fdrive.photos.readonly%20https%3A%2F%2Fwww.googleapis.com%2Fauth%2Fpeopleapi.readonly&response_type=code\n",
            "\n",
            "Enter your authorization code:\n",
            "··········\n",
            "Mounted at /content/drive\n"
          ],
          "name": "stdout"
        }
      ]
    },
    {
      "cell_type": "code",
      "metadata": {
        "id": "jiWghfksL0CQ",
        "colab_type": "code",
        "colab": {}
      },
      "source": [
        "# Graphing helper function\n",
        "def setup_graph(title='', x_label='', y_label='', fig_size=None):\n",
        "    fig = plt.figure()\n",
        "    if fig_size != None:\n",
        "        fig.set_size_inches(fig_size[0], fig_size[1])\n",
        "    ax = fig.add_subplot(111)\n",
        "    ax.set_title(title)\n",
        "    ax.set_xlabel(x_label)\n",
        "    ax.set_ylabel(y_label)\n",
        "    \n",
        "# Category names.\n",
        "def categoryName(num):\n",
        "  if num == 0: return \"Quieto\"\n",
        "  elif num == 1: return \"En movimiento\"\n",
        "  else: return \"Caída\""
      ],
      "execution_count": 0,
      "outputs": []
    },
    {
      "cell_type": "markdown",
      "metadata": {
        "id": "0uOwCk22Nglm",
        "colab_type": "text"
      },
      "source": [
        "**3.1 Naive Bayes Classifier.**\n",
        "\n",
        "---\n",
        "\n",
        "A continuación, se presenta la clase ***NaiveBayesClassifier***, la cual implementa el modelo de aprendizaje de máquina enunciado al inicio de este informe, esto es, se explica detalladamente el funcionamiento de cada uno de los métodos de la clase, realizando especial énfasis en las funciones auxiliares:\n",
        "\n",
        "\n",
        "*   **3.1.1** $priorProbability(category):$ Permite calcular la probabilidad de que algún dato escogido al azar pertenezca a un dato de  categoría \"*category*\" proporcionada como parámetro, retornando la división entre la cantidad de datos correspondientes a una caída con la cantidad de datos totales.\n",
        "*   **3.1.2** $marginalLikelihood(new_{obs}):$ Recibe como parámetro un nuevo conjunto de datos. Calculará la distancia entre el nuevo punto y los demás puntos almacenados usando las funciones **3.1.6** y **3.1.8**, y retornará la cantidad de puntos que se encuentren a una distancia menor que un rango previamente establecido (radio = 20).\n",
        "*   **3.1.3** $likeliHood(category, new_{obs}):$ Recibe como parámetro una categoría y un nuevo conjunto de datos. Similar a la función **3.1.2** encontrá los puntos en el rango de distancia establecido pero retornará la cantidad de estos puntos que pertenezcan a la categoría proporcionada.\n",
        "*   **3.1.4** $posteriorProbability(category, new_{obs}):$ Dada una categoría y un nuevo conjunto de datos, retorna la division entre el producto del *likelihood*  con el *Class prior probability* y el *Predictor Prior probability* como se muestra en la *imagen 1* y son obtenidos por las funciones **3.1.3**, **3.1.1** y **3.1.2** respectivamente.\n",
        "*   **3.1.5** $classifyEntry(new_{obs}):$ Recibe como parámetro un nuevo conjunto de datos, y aplica la función **3.1.4** que proporciona el valor de *posterior probability* para cada tipo de categoría y retorna el indice correspondiente a la categoría que posee el mayor valor.\n",
        "*   **3.1.6** $distancePoints(point_{1}, point_{2}):$ Recibe como parámetro dos conjuntos de datos con $n$ elementos que representan puntos en $R^{n}$ y retorna la distancia entre ellos. Para más información revise: [Distancia Euclidiana](https://es.wikipedia.org/wiki/Distancia_euclidiana)\n",
        "*   **3.1.7** $fourierTransformation(series, num_{samples}, sample_{rate}):$ Aplicamos una transformación de fourier a los datos.\n",
        "*   **3.1.8** $normalizeFunction(function):$ Aplica una normalización a un conjunto de datos. Para más información revise [Normalización Estadística](https://economipedia.com/definiciones/normalizacion-estadistica.html)\n",
        "\n",
        "\n",
        "\n",
        "\n",
        "\n",
        "\n",
        "\n",
        "\n"
      ]
    },
    {
      "cell_type": "code",
      "metadata": {
        "id": "2xl1E1y7RGGS",
        "colab_type": "code",
        "colab": {}
      },
      "source": [
        "class NaiveBayesClassifier():\n",
        "    \n",
        "    def __init__(self, pathFile):\n",
        "        # Get Data from csv.\n",
        "        global data\n",
        "        global radius \n",
        "        \n",
        "        data = pd.read_csv(pathFile)\n",
        "        columns = \"category\"\n",
        "        for i in range(0, 60):\n",
        "          columns += \" \" + str(i+1)\n",
        "        data.columns = columns.split()\n",
        "        radius = 20\n",
        "                \n",
        "    # Category Probability.\n",
        "    def priorProbability(self, category):\n",
        "        num_category = data[data.category == category][\"category\"].count()\n",
        "        total = data[\"category\"].count()\n",
        "        return num_category / total\n",
        "    \n",
        "    # Probability of being \n",
        "    def marginalLikelihood(self, new_obs):\n",
        "        contador = 0\n",
        "        df_len = data[\"category\"].count()\n",
        "\n",
        "        for i in range(0, df_len):\n",
        "            function = data.iloc[i]\n",
        "            magnitude, freq = fourierTransformation(function, len(function), 60)\n",
        "            distance = self.distancePoints(new_obs, self.normalizeFunction(magnitude))\n",
        "            #print(\"distance: \", distance, data.iloc[i][\"category\"])\n",
        "\n",
        "            if distance < radius:\n",
        "                contador += 1\n",
        "        return contador / df_len\n",
        "    \n",
        "    # Likelihood.\n",
        "    def likeliHood(self, category, new_obs):\n",
        "        contador = 0\n",
        "        df_len = data[\"category\"].count()\n",
        "\n",
        "        for i in range(0, df_len):\n",
        "            function = data.iloc[i]\n",
        "            magnitude, freq = fourierTransformation(function, len(function), 60)\n",
        "            distance = self.distancePoints(new_obs, self.normalizeFunction(magnitude))\n",
        "\n",
        "            if (distance < radius and data.iloc[i].category == category):\n",
        "                #print(\"distance: \", distance, data.iloc[i].category)\n",
        "                contador += 1\n",
        "\n",
        "        num_category = data[data.category == category][\"category\"].count()\n",
        "        #print(\"Contador: \", contador)\n",
        "        #print(\"Num Category: \", num_category)\n",
        "        return (contador / num_category)\n",
        "    \n",
        "    # Posterior Probability\n",
        "    def posteriorProbability(self, category, new_obs):\n",
        "\n",
        "        mo, mo_trans = fourierTransformation(new_obs, len(new_obs), 60)\n",
        "        mo = self.normalizeFunction(mo)\n",
        "\n",
        "        priorProb = self.priorProbability(category)\n",
        "        marginalLike = self.marginalLikelihood(mo)\n",
        "        likelihood = self.likeliHood(category, mo)\n",
        "        res = (likelihood * priorProb) / marginalLike\n",
        "        \n",
        "        print(\"Category, PriorProb, MarginalLike, Likelihood, res\")\n",
        "        print(category, priorProb, marginalLike, likelihood, res)\n",
        "        print(\" \")\n",
        "        \n",
        "        return res\n",
        "    \n",
        "    def classifyEntry(self, new_obs):\n",
        "        categories = list()\n",
        "        for i in [0, 1, 2]:\n",
        "            categories.append(self.posteriorProbability(i, new_obs))\n",
        "\n",
        "        print(\"Clasiffication: \")\n",
        "        return categories.index(max(categories))\n",
        "    \n",
        "    # EXTRA FUNCTIONS.\n",
        "\n",
        "    # Get pandas dataframe.\n",
        "    def getData(self):\n",
        "        return data\n",
        "\n",
        "    # Compute distance between list of points.\n",
        "    def distancePoints(self, p1, p2):\n",
        "        distance = 0\n",
        "        for i in range(1, len(p1)):\n",
        "            distance += (p1[i] - p2[i]) ** 2\n",
        "        return math.sqrt(distance)\n",
        "\n",
        "    # Compute Fourier Transformation.\n",
        "    def fourierTransformation(self, series, num_samples, sample_rate):\n",
        "        fft_out = np.fft.rfft(series)\n",
        "        magnitude_only = [np.sqrt(i.real**2 + i.imag**2)/len(fft_out) for i in fft_out][2:]\n",
        "        frequencies = [(i*1.0/num_samples)*sample_rate for i in range(num_samples//2+1)][2:]\n",
        "        return magnitude_only, frequencies\n",
        "\n",
        "    # Normalize function.\n",
        "    def normalizeFunction(self, function):\n",
        "        # Compute mean value.\n",
        "        mean = 0\n",
        "        for i in function:\n",
        "          mean += i\n",
        "        mean /= len(function)\n",
        "\n",
        "        # Compute std.\n",
        "        std = 0\n",
        "        for i in function: \n",
        "          std += (i-mean)**2\n",
        "        std /= len(function)\n",
        "\n",
        "        # Normalize function.\n",
        "        for i in range(0, len(function)):\n",
        "          function[i] = (function[i] - mean)/std\n",
        "        return function"
      ],
      "execution_count": 0,
      "outputs": []
    },
    {
      "cell_type": "markdown",
      "metadata": {
        "id": "dXXreSiWnxhJ",
        "colab_type": "text"
      },
      "source": [
        "**3.2 Enviar correo electrónico.**\n",
        "\n",
        "---\n",
        "\n",
        "A continuación se configuran las variables y métodos para poder realizar envío de correos electrónicos desde Python a los correos indicados por el usuario de la aplicación. Para esto último, el usuario tiene la posibilidad de registrar tantos correos como desee, los cuales van incluídos en una lista. Es importante señalar, que la información enviada por el correo, no sólo incluye una alerta para los familiares y/o amigos del usuario, sino también agrega un mapa generador dinámicamente por Folium, en donde indica donde ocurrió la caída exactamente. Para poder cumplir con las funcionalidades menciondas, se implemetaron dos métodos, a saber:\n",
        "\n",
        "*   **3.1.1** $sendEmail():$ Haciendo uso de la librería \"email\" enviamos un aviso a uno o varios correos previamente establecidos, advirtiendo de la posible caída junto con datos de interés, como la línea de atención a emergencias, un mapa señalando el lugar de la posible caída además de la dirección, localidad y ciudad.\n",
        "*   **3.1.2** $attachGPSLocation(latitude, longitude):$ A través de dos variables, latitud y longitud, obtenemos los datos de geolocalización de la posible caída, para agregarlos al mensaje a enviar. Además se crea un mapa dinámico señalando el lugar del hecho para luego ser covertido a formado \".png\" y posteriormente ser agregado al mensaje que se desea enviar.  \n",
        "\n"
      ]
    },
    {
      "cell_type": "code",
      "metadata": {
        "id": "n_ZN0S96nw3C",
        "colab_type": "code",
        "colab": {}
      },
      "source": [
        "# Import libraries.\n",
        "import smtplib, ssl\n",
        "import email"
      ],
      "execution_count": 0,
      "outputs": []
    },
    {
      "cell_type": "code",
      "metadata": {
        "id": "EdoIok1qnw7O",
        "colab_type": "code",
        "colab": {}
      },
      "source": [
        "# Set email variables.\n",
        "port = 465\n",
        "password = \"tsiGP^a$U^fL\"\n",
        "sender_email = \"felldownapp@gmail.com\"\n",
        "\n",
        "receiver_email = \"junes9710@gmail.com\"\n",
        "receiver_list = [\"jecepedab@unal.edu.co\", \"\"]"
      ],
      "execution_count": 0,
      "outputs": []
    },
    {
      "cell_type": "code",
      "metadata": {
        "id": "4tNWQttJnw5_",
        "colab_type": "code",
        "outputId": "66976fb8-6c50-4924-8952-645c45a952c1",
        "colab": {
          "base_uri": "https://localhost:8080/",
          "height": 74
        }
      },
      "source": [
        "# Generate message.\n",
        "from email.mime.text import MIMEText\n",
        "from email.mime.multipart import MIMEMultipart\n",
        "from email.mime.application import MIMEApplication\n",
        "from email.mime.base import MIMEBase\n",
        "from email import encoders\n",
        "from geopy.geocoders import Nominatim\n",
        "\n",
        "msg = MIMEMultipart()\n",
        "msg[\"From\"] = sender_email\n",
        "msg[\"To\"] = receiver_email\n",
        "msg[\"Subject\"] = \"Alerta de Caída\"\n",
        "\n",
        "msg_content = MIMEText(open(\"./mensaje.html\", \"rb\").read(), \"html\", \"utf-8\")\n",
        "msg.attach(msg_content)"
      ],
      "execution_count": 0,
      "outputs": [
        {
          "output_type": "stream",
          "text": [
            "/usr/local/lib/python3.6/dist-packages/geopy/geocoders/osm.py:143: UserWarning: Using Nominatim with the default \"geopy/1.17.0\" `user_agent` is strongly discouraged, as it violates Nominatim's ToS https://operations.osmfoundation.org/policies/nominatim/ and may possibly cause 403 and 429 HTTP errors. Please specify a custom `user_agent` with `Nominatim(user_agent=\"my-application\")` or by overriding the default `user_agent`: `geopy.geocoders.options.default_user_agent = \"my-application\"`. In geopy 2.0 this will become an exception.\n",
            "  UserWarning\n"
          ],
          "name": "stderr"
        }
      ]
    },
    {
      "cell_type": "code",
      "metadata": {
        "id": "A5EdkaQijBKf",
        "colab_type": "code",
        "colab": {}
      },
      "source": [
        "# Send email function.\n",
        "def sendEmail():\n",
        "    \n",
        "    # Set context.\n",
        "    context = ssl.create_default_context()\n",
        "    print(\"Enviado correo electrónico...\")\n",
        "\n",
        "    # Send email.\n",
        "    with smtplib.SMTP_SSL(\"smtp.gmail.com\", port, context = context) as server:\n",
        "        try:\n",
        "            server.login(sender_email, password)\n",
        "            server.sendmail(sender_email, receiver_list, msg.as_string())\n",
        "            print(\"Correo enviado a: \", receiver_list)\n",
        "            server.quit()\n",
        "        except:\n",
        "            print(\"Unknown Error\")\n",
        "            \n",
        "            \n",
        "# Attach GPS Location        \n",
        "def attachGPSLocation(latitude=4.63716, longitude=-74.08230):\n",
        "    \n",
        "    geo=Nominatim()\n",
        "    locate=geo.reverse(str(latitude) +','+ str(longitude))\n",
        "    address=locate.address.split(\",\")\n",
        "    msg_content = MIMEText(\"<p>\"+address[0]+\",\"+address[1]+\",\"+address[2]+\",\"+address[4]+\",\"+address[5]+\",\"+address[6]+\",\"+\"</p>\", \"html\", \"utf-8\")\n",
        "    msg.attach(msg_content)\n",
        "    \n",
        "    \n",
        "    # Detele map first.\n",
        "    if(os.path.isfile(\"./map.png\")):\n",
        "        os.remove(\"./map.png\")\n",
        "    \n",
        "    # Generate dynamic map.\n",
        "    print(\"Generando mapa del lugar de la caida...\")\n",
        "    map_ = folium.Map(width=1024,height=768,location=[latitude, longitude], zoom_start=15)\n",
        "    folium.Marker([4.63716, -74.08230]).add_to(map_)\n",
        "    map_.save(\"map.html\")\n",
        "    imgkit.from_file(\"map.html\", \"map.png\", config = config)\n",
        "    \n",
        "    # Attach map to message.\n",
        "    print(\"Generando correo...\")\n",
        "    \n",
        "    with open('./map.png', 'rb') as f:  \n",
        "        # set attachment mime and file name, the image type is png\n",
        "        mime = MIMEBase('image', 'png', filename='felldown_location.png')\n",
        "        \n",
        "        # add required header data:\n",
        "        mime.add_header('Content-Disposition', 'attachment', filename='felldown_location.png')\n",
        "        mime.add_header('X-Attachment-Id', '0')\n",
        "        mime.add_header('Content-ID', '<0>')\n",
        "        \n",
        "        # read attachment file content into the MIMEBase object\n",
        "        mime.set_payload(f.read())\n",
        "        \n",
        "        # encode with base64\n",
        "        encoders.encode_base64(mime)\n",
        "        \n",
        "        # add MIMEBase object to MIMEMultipart object\n",
        "        msg.attach(mime)"
      ],
      "execution_count": 0,
      "outputs": []
    },
    {
      "cell_type": "markdown",
      "metadata": {
        "id": "deIFsbultZKv",
        "colab_type": "text"
      },
      "source": [
        "**3.3 Entrenamiento del Clasificador.**\n",
        "\n",
        "---\n",
        "\n",
        "Para generar el conjunto de datos de entrenamiento del algoritmo de aprendizaje de máquina fue necesario establecer una conexión entre el computador y un dispositivo móvil que se usará como simulador de los eventos a considerar (estar quieto, estar en movimiento y caer). Para ello hicimos uso de la aplicación móvil “***IMU+GPS-Stream***” que permite enviar a un servidor, conectado a través de una **Ip** y un **Código de puerto**, los datos captados por los sensores que el dispositivo móvil tenga integrados. Luego de establecer la conexión procedemos a la captura de la información simulando cada uno de los posibles estados del celular. La cantidad de captura de datos será de 60 veces por cada simulación y el programa preguntará si se desean incluir los datos, esto debido a posibles fallas en los momentos de simulación.\n",
        "Empezamos capturando los datos del celular cuando se encuentra en reposo y los almacenamos en varias listas de datos. \n",
        "Seguidamente guardamos los datos del celular en movimiento (simulando caminar con el celular). Y por último simulamos caídas y de nuevo guardamos los datos. Los datos de reposo y movimiento servirán en gran medida para evitar que el programa envíe falsas alarmas de caída. ***A causa de limitaciones de Colaboratory hemos guardado previamente los datos obtenidos en un archivo para su posterior uso***. "
      ]
    },
    {
      "cell_type": "code",
      "metadata": {
        "id": "a0TBzZjzC2Sx",
        "colab_type": "code",
        "colab": {}
      },
      "source": [
        "# Socket settings.\n",
        "UDP_IP = \"192.168.0.8\" #\"192.168.43.156\" #0.14\n",
        "UDP_PORT = 5555\n",
        "CATEGORY = 0    #0 => Still, 1 => Moving, 2 => Fall\n",
        "DECIMALS = 3\n",
        "\n",
        "# Start socket server.\n",
        "sock = socket.socket(socket.AF_INET, socket.SOCK_DGRAM)\n",
        "sock.bind((UDP_IP, UDP_PORT))\n",
        "print(\"Host Listening...\")\n",
        "\n",
        "# Initialize Acelerometro\n",
        "acelerometro = list()\n",
        "for i in range(0, 4):\n",
        "    acelerometro.append(list())\n",
        "contador = 0    \n",
        "FRAMES = 60\n",
        "\n",
        "# Star time.\n",
        "start_time = time.time()\n",
        "    \n",
        "while contador < FRAMES:\n",
        "    \n",
        "    # Get Data.\n",
        "    data, addr = sock.recvfrom(1024) # buffer size is 1024 bytes.\n",
        "    info = str(data, 'utf-8')\n",
        "    \n",
        "    # Process Data.\n",
        "    info = info.replace(\" \", \"\")\n",
        "    lista = info.split(\",\")    \n",
        "    length = len(lista)\n",
        "    for i in range(0, length):\n",
        "        lista[i] = round(float(lista[i]), DECIMALS)        \n",
        "\n",
        "    # Print values.\n",
        "    print(lista)  \n",
        "    \n",
        "    # Add Values in list.\n",
        "    acelerometro[0].append(lista[2])\n",
        "    acelerometro[1].append(lista[3])\n",
        "    acelerometro[2].append(lista[4])\n",
        "    acelerometro[3].append(lista[2] + lista[3] + lista[4])\n",
        "    contador += 1\n",
        "    \n",
        "    \n",
        "# Get features from data.\n",
        "categoria = CATEGORY\n",
        "\n",
        "# Print elapsed time.\n",
        "elapsed_time = time.time() - start_time\n",
        "print(\"Elapsed Time: \", elapsed_time)\n",
        "\n",
        "# Plot X, Y, Z\n",
        "x = list()\n",
        "for i in range(0, FRAMES):\n",
        "    x.append(i+1)\n",
        "         \n",
        "# Plot total.\n",
        "plot4, = plt.plot(x, acelerometro[3])\n",
        "plt.title(\"Accelerometer Total\")\n",
        "plt.legend([plot4], \"Total\")\n",
        "plt.ylabel(\"Values\")\n",
        "plt.xlabel(\"Frames\")\n",
        "plt.show()\n",
        "\n",
        "# Save in CSV.\n",
        "if(input(\"Include in DataSet? YES/NO: \") == \"Y\"):\n",
        "    with open(\"./acc_data4.csv\", \"a\") as writeFile:\n",
        "          writer = csv.writer(writeFile)\n",
        "          acelerometro[3].insert(0, CATEGORY)\n",
        "          writer.writerow(acelerometro[3])\n",
        "    writeFile.close()\n",
        "    print(\"Included!\")\n",
        "else: \n",
        "    print(\"Not included\")"
      ],
      "execution_count": 0,
      "outputs": []
    },
    {
      "cell_type": "code",
      "metadata": {
        "id": "kRoNKH0x2BUw",
        "colab_type": "code",
        "colab": {}
      },
      "source": [
        "# Get training data.\n",
        "pathFile =  \"/content/drive/My Drive/Noveno Semestre/acc_data4.csv\"\n",
        "df = pd.read_csv(pathFile)\n",
        "\n",
        "# Initialize classifier.\n",
        "classifier = NaiveBayesClassifier(pathFile)"
      ],
      "execution_count": 0,
      "outputs": []
    },
    {
      "cell_type": "markdown",
      "metadata": {
        "id": "w6MzqVT9tr2L",
        "colab_type": "text"
      },
      "source": [
        "**3.4 Testeo del Clasificador.**\n",
        "\n",
        "---\n",
        "\n",
        "El siguiente código, inicializa un socket por medio del protocolo UDP, el cual se encarga de recibir la información proveniente del dispositivo móvil asociado con la aplicación. Una vez se ha confirmado la llegada de 60 muestras relacionadas con el comportamiento del acelerometro, el algoritmo procesa los datos, para luego clasificarlos, definiendo si el celular se encuentra quieto, en movimiento, o si se ha caído. En caso en que no se reporte ninguna anomalía (es decir, el celular no se ha caído), el algoritmo sigue recibiendo, procesando y clasificando los datos enviados por el celular; si este no es el caso, y se ha detectado una caída, el algoritmo da inicio a una cuenta regresiva de 10 segundos, la cual le permite al usuario confirmar si se ha caído; en caso de no recibir respuesta, se envía automáticamente una alerta a los correos ingresados por el usuario."
      ]
    },
    {
      "cell_type": "code",
      "metadata": {
        "id": "h-b6l-DuEUy3",
        "colab_type": "code",
        "colab": {}
      },
      "source": [
        "# Socket settings.\n",
        "UDP_IP = \"192.168.0.6\" #\"10.203.161.223\"     #\"192.168.0.8\" #\"192.168.43.156\" #0.14\n",
        "UDP_PORT = 5556\n",
        "DECIMALS = 3\n",
        "\n",
        "# Start socket server.\n",
        "sock = socket.socket(socket.AF_INET, socket.SOCK_DGRAM)\n",
        "sock.bind((UDP_IP, UDP_PORT))\n",
        "print(\"Host Listening...\")\n",
        "\n",
        "# Initialize Acelerometro\n",
        "acelerometro = list()\n",
        "for i in range(0, 4):\n",
        "    acelerometro.append(list())\n",
        "    \n",
        "contador = 0    \n",
        "FRAMES = 60\n",
        "\n",
        "while True:\n",
        "    while contador < FRAMES:\n",
        "\n",
        "        # Recieve data from socket.\n",
        "        data_cellphone, addr = sock.recvfrom(2048) # buffer size is 1024 bytes.\n",
        "        info = str(data_cellphone, 'utf-8')\n",
        "\n",
        "        #print(info)\n",
        "        \n",
        "        # Process Data.\n",
        "        info = info.replace(\" \", \"\")\n",
        "        lista = info.split(\",\")    \n",
        "        length = len(lista)\n",
        "        for i in range(0, length):\n",
        "            lista[i] = round(float(lista[i]), DECIMALS)        \n",
        "\n",
        "        # Print values.\n",
        "        #print(lista)\n",
        "        #print(acelerometro)\n",
        "\n",
        "        # Add Values in list.\n",
        "        acelerometro[0].append(lista[2])\n",
        "        acelerometro[1].append(lista[3])\n",
        "        acelerometro[2].append(lista[4])\n",
        "        acelerometro[3].append(lista[2] + lista[3] + lista[4])\n",
        "\n",
        "        contador += 1\n",
        "\n",
        "    obs = acelerometro[3]\n",
        "    series = pd.Series((i for i in acelerometro[3])).values\n",
        "\n",
        "    res = classifier.classifyEntry(series)\n",
        "    print(\"Estado del celular: \", categoryName(res)) \n",
        "\n",
        "    if(res == 2):\n",
        "        if(input(\"Caida detectada. Confirmar >> Y/N ==> \")) == \"Y\":\n",
        "            attachGPSLocation()\n",
        "            sendEmail()\n",
        "            break\n",
        "        else:\n",
        "            print(\"Has seleccionado la opción de Falsa Alarma! Continuaremos analizando...\")\n",
        "\n",
        "    #print(\"resetear variables\")\n",
        "    \n",
        "    contador = 0\n",
        "    acelerometro.clear()\n",
        "    for i in range(0, 4):\n",
        "        acelerometro.append(list())\n",
        "    info = \"\"\n",
        "    lista.clear()\n",
        "\n",
        "print(\"Fin del programa\")"
      ],
      "execution_count": 0,
      "outputs": []
    },
    {
      "cell_type": "markdown",
      "metadata": {
        "id": "kFd6iJP_Aw3C",
        "colab_type": "text"
      },
      "source": [
        "**4. Conclusiones**\n",
        "\n",
        "---\n",
        "\n",
        "1. Se puede seguir mejorando el programa a traves de una mayor cantidad de datos de entrenamiento. Lo anterior, va a determinar la sensibilidad del programa. Se tiene que entrenar más al programa en relación al movimiento. En este momento, cualquier movimiento brusco lo detecta como una caída. \n",
        "2. Para futuras lineas de investigacion en esta aplicacion, se pueden explorar nuevos modelos de aprendizaje de máquina para la clasificación de los datos del acelerometro. Esto puede llevar a tomar decisiones más acertadas. [Aquí](https://medium.com/soldai/tipos-de-aprendizaje-autom%C3%A1tico-6413e3c615e2) hay disponible más información.\n",
        "3. En pro de mejorar la funcionalidad del programa y aumentar el espectro de situaciones ideales, se deberá contemplar una mayor cantidad de variables, tales como posibles interpretaciones de velocidad, ángulos de movimiento u otros.\n",
        "4. Tambien se podria explorar el desarrollo de una aplicación móvil."
      ]
    },
    {
      "cell_type": "markdown",
      "metadata": {
        "id": "xxCsPpKuA7zI",
        "colab_type": "text"
      },
      "source": [
        "**5. Bibliografía**\n",
        "\n",
        "---\n",
        "\n",
        "1.  K. Eremenko, ‎R. Woods (2019). DMachine Learning A-Z™: Hands-On Python & R In Data Science. Recuperado de https://www.udemy.com/machinelearning/\n",
        "2.  Physics Videos by Eugene Khutoryansky. (6 de septiembre de 2015).  Fourier Transform, Fourier Series, and frequency spectrum. Recuperado de https://www.youtube.com/watch?v=r18Gi8lSkfM\n",
        "3.  codigofacilito. (12 de marzo de 2018).  Crear servidor sockets con Python - Bytes. Recuperado de https://www.youtube.com/watch?v=nJYp3_X_p6c\n",
        "4. R. Trump (10 de diciembre de 2018) Python Send Html, Image And Attachment Email Example. Recuperado de https://www.code-learner.com"
      ]
    }
  ]
}