{
 "cells": [
  {
   "cell_type": "markdown",
   "metadata": {
    "colab_type": "text",
    "id": "Fo8E1Kny9FHC"
   },
   "source": [
    "# Detector de Caídas - Proyecto 1"
   ]
  },
  {
   "cell_type": "markdown",
   "metadata": {
    "colab_type": "text",
    "id": "YHd0C8xM9Qno"
   },
   "source": [
    "**Presentador por:**\n",
    "---\n",
    "\n",
    "---\n",
    "- **Juan Daniel Gomez Ríos.**\n",
    "- Estudiante de Ciencias de la Computación de la Universidad Nacional de Colombia.\n",
    "- Email: judgomezri@unal.edu.co\n",
    "- Google Site: \n",
    "\n",
    "---\n",
    "\n",
    "- **Juan Esteban Cepeda Baena.**\n",
    "- Estudiante de Ciencias de la Computación y Administración de Empresas de la Universidad Nacional de Colombia.\n",
    "- Email: jecepedab@unal.edu.co / juancepeda.gestion@gmail.com\n",
    "- Google Site: https://sites.google.com/view/jecepedab/"
   ]
  },
  {
   "cell_type": "markdown",
   "metadata": {
    "colab_type": "text",
    "id": "7IL7pHii9uOU"
   },
   "source": [
    "**1. Introducción**\n",
    "\n",
    "---\n",
    "La detección de caídas juega un papel fundamental para la administración de riesgos relacionados con la salud y la integridad de personas que tienen una mayor probabilidad de sufrir este tipo de accidentes, a saber: ancianos, ciclistas, trabajadores de construcción, entre otros. Así, en la medida en que es posible detectar si una persona ha sufrido una caída,\n",
    "esto le permite a los organismos de socorro poder intervenir en la situación con mayor prontitud y auxiliar al/a la afectad@. La posibilidad de obtener ayuda inmediata incrementa significativamente las posibilidades de que el/la afectad@ pueda recuperarse satisfactoriamente del siniestro.\n",
    "\n",
    "El presente trabajo aborda la conceptualización y desarrollo de un algorítmo de inteligencia artificial (Naive Bayes) capaz de identificar cuando un dispositivo móvil se ha caído. Esta aplicación, utiliza, procesa y analiza información relacionada con los sensóres de un dispositivo móvil, en particular, el acelerómetro, del cual obtiene una serie de señales que son procesadas y analizadas por medio de la transformación de Fourier, que corresponde al criterio fundamental para clasificar la señal. En caso en que la señal se identifique como una caída, la aplicación procede a enviar un correo electrónico, el cual informa a los usuarios de la lista de correos acerca de la fecha, hora y lugar del accidente."
   ]
  },
  {
   "cell_type": "markdown",
   "metadata": {
    "colab_type": "text",
    "id": "F92fiRTh-FzS"
   },
   "source": [
    "**2. Materiales y métodos (EJEMPLO)**\n",
    "\n",
    "---\n",
    "**2.1 Modelo Naive Bayes**: \n",
    "El modelo Naive Bayes\n",
    "\n",
    "<img src=\"https://uc-r.github.io/public/images/analytics/naive_bayes/naive_bayes_icon.png\" width=\"400\" height = \"230\">\n",
    "\n",
    "*Figura 1. Modelo de aprendizaje de máquina Naive Bayes. Recuperado de: https://uc-r.github.io/naive_bayes*\n",
    "\n",
    "**2.2 Modelo Numérico**: \n",
    "\n",
    "*   **A. Sensado:** Lorem ipsum dolor sit amet, consectetur adipiscing elit. Integer diam diam, tincidunt et elementum eget, ultricies id velit. Nam ac lacinia odio. Cras eu mi mi. Proin et purus tellus. Sed consectetur commodo vehicula. In dapibus magna vel leo dictum dictum. Pellentesque vulputate cursus porta. Donec erat tortor, pharetra vitae turpis vitae, finibus convallis velit.\n",
    "\n",
    "<img src=\"https://static.wixstatic.com/media/36ad7e_d74cc58231e5432fb08cbcd6899bb2ac~mv2.jpg/v1/fill/w_290,h_253,al_c,q_80,usm_0.66_1.00_0.01/36ad7e_d74cc58231e5432fb08cbcd6899bb2ac~mv2.jpg\" width=\"350\" height = \"230\">\n",
    "\n",
    "*Figura X. Acelerometro. Recuperado de: https://jlgarcia48.wixsite.com*\n",
    "\n",
    "*   **B. Procesamiento de la señal:** Lorem ipsum dolor sit amet, consectetur adipiscing elit. Integer diam diam, tincidunt et elementum eget, ultricies id velit. Nam ac lacinia odio. Cras eu mi mi. Proin et purus tellus. Sed consectetur commodo vehicula. In dapibus magna vel leo dictum dictum. Pellentesque vulputate cursus porta. Donec erat tortor, pharetra vitae turpis vitae, finibus convallis velit.\n",
    "\n",
    "\n",
    "<img src=\"https://i0.wp.com/rufianenlared.com/wp-content/uploads/2018/02/FFT_of_Cosine_Summation_Function.png?resize=876%2C558\n",
    "\" width=\"350\" height = \"230\">\n",
    "\n",
    "*Figura X. Transformada de Fourier. Recuperado de: http://rufianenlared.com/fft/*\n",
    "\n",
    "\n",
    "\n",
    "*   **C. Entrenamiento:** Lorem ipsum dolor sit amet, consectetur adipiscing elit. Integer diam diam, tincidunt et elementum eget, ultricies id velit. Nam ac lacinia odio. Cras eu mi mi. Proin et purus tellus. Sed consectetur commodo vehicula. In dapibus magna vel leo dictum dictum. Pellentesque vulputate cursus porta. Donec erat tortor, pharetra vitae turpis vitae, finibus convallis velit.\n",
    "\n",
    "*   **D. Clasificación:** Lorem ipsum dolor sit amet, consectetur adipiscing elit. Integer diam diam, tincidunt et elementum eget, ultricies id velit. Nam ac lacinia odio. Cras eu mi mi. Proin et purus tellus. Sed consectetur commodo vehicula. In dapibus magna vel leo dictum dictum. Pellentesque vulputate cursus porta. Donec erat tortor, pharetra vitae turpis vitae, finibus convallis velit.\n",
    "\n",
    "\n",
    "\n",
    "\n",
    "\n"
   ]
  },
  {
   "cell_type": "markdown",
   "metadata": {
    "colab_type": "text",
    "id": "cGzUCvDm-eMB"
   },
   "source": [
    "**2.3 Herramientas computacionales (EJEMPLO)**:\n",
    "\n",
    "Las herramientas computacionales o librerías utilizadas para el desarrollo del proyecto fueron: 1) Numpy, 2) Matplotlib, 3) Math y 4) IPython.display. A continuación se explica qué son y cómo fueron utilizadas:\n",
    "\n",
    "Numpy: es una de las librerías más importante de Python, encargada de incorporar funcionalidades de carácter matemático y vectorial. Para términos del proyecto, se utilizó una de sus funciones: numpy.sign(numero), la cual retorna el signo del número que le ingresemos. Como se explicó en el numéral 2.2, esta función se utilizó para calcular el signo en x del vector de fuerza, y de esta manera, saber a qué dirección aplicar la fuerza de rozamiento producida por el aire (la cual debe ser tener signo opuesto a la fuerza en x de la partícula en cuestión).\n",
    "\n",
    "Matplotlib: Matplotlib es una librería gráfica que permite generar figuras de alta calidad, con gran variedad de formatos y ambientes interactivos. Para términos del proyecto se utilizaron las siguientes subclases: 1) animation (la cual permite generar animaciones o gráficas interactivas), 2) pyplot (que incorpora a la librería gráfica funcionalidades de numpy) y 3) rc (que corresponde a una subclase de pyplot, encargada de parametrizar características visuales de las gráficas). La clase animation se utilizó para generar la animación de acuerdo con las características definidias en las funciones init() y animate(). Por otro lado, se empleó la clase pyplot para generar el plano o \"espacio\" en donde la animación tiene lugar.\n",
    "\n",
    "Math: corresponde a una librería de Python que provee acceso a las funciones matemáticas definidas por el estándar de C. Esta librería se utilizó para calcular las distancias entre dos partículas antes de una colisión, y para calcular el ángulo de incidencia de las mismas al momento de su encuentro. Entre las funciones utilizadas se encuentra: sqrt, degrees, asin, radians, entre otros.\n",
    "\n",
    "Requests: corresponde a una librería HTTP licenciada por Apache2 y escrita en Python, que permite a los usuarios realizar solicitudes HTTP sin tener que interactuar directamente con URL's o solicitudes POST. Esta librería se utilizó para cargar en Python la información de las imágenes, tanto de los datos de entrenamiento como los de prueba.\n",
    "\n",
    "Pandas: es una extensión de Numpy desarrollada para la manipulación y análisis de datos en Python. Ofrece estructuras de datos y operaciones para manipular tablas numéricas y series temporales. Pandas se utilizó para almacenar los vectores de características de las distintas imágenes del conjunto de entrenamiento y de prueba.\n",
    "\n",
    "Skimage: corresponde a una colecciòn de algoritmos empleados para el procesamiento de imágenes y la visión de computadoras. Este modulo se utilizó para cargar la matriz de pixeles correspondiente a cada imagen.\n",
    "\n",
    "Sys: El módulo sys es el encargo de proveer variables y funcionalidades directamente relaciones con el intérprete. Este módulo se utilizó para incrementar la cantidad de recursos computacionales empleados en el programa.\n",
    "\n",
    "google.colab: corresponde a la librería integrada por defecto al entorno de ejecución Colaboraty. Entre otras cosas, esta librería permite acceder al sistema de archivos de Google Drive, facultando al usuario para crear, manipular y eliminar archivos localmente."
   ]
  },
  {
   "cell_type": "markdown",
   "metadata": {
    "colab_type": "text",
    "id": "baJtgW7t_GXM"
   },
   "source": [
    "**3. Resultados**\n",
    "\n",
    "---\n",
    "\n",
    "A continuación, se presenta el código del programa, los resultados del algorítmo de entrenamiento, el algortímo de prueba y la distribución gráfica de los vectores en 2D:"
   ]
  },
  {
   "cell_type": "code",
   "execution_count": 1,
   "metadata": {
    "colab": {},
    "colab_type": "code",
    "id": "Yt4S0aSy1yeL"
   },
   "outputs": [],
   "source": [
    "# Import libraries.\n",
    "import pandas as pd\n",
    "import numpy as np\n",
    "import matplotlib.pyplot as plt\n",
    "import csv \n",
    "import math\n",
    "import warnings\n",
    "import socket\n",
    "import time\n",
    "import folium\n",
    "import imgkit\n",
    "import os\n",
    "\n",
    "warnings.filterwarnings(\"ignore\")"
   ]
  },
  {
   "cell_type": "code",
   "execution_count": 2,
   "metadata": {},
   "outputs": [],
   "source": [
    "# Configure imgkit.\n",
    "config = imgkit.config(wkhtmltoimage=bytes(\"C:/Program Files/wkhtmltopdf/bin/wkhtmltoimage.exe\", \"utf-8\"))"
   ]
  },
  {
   "cell_type": "code",
   "execution_count": 14,
   "metadata": {
    "colab": {},
    "colab_type": "code",
    "id": "jiWghfksL0CQ"
   },
   "outputs": [],
   "source": [
    "# Graphing helper function\n",
    "def setup_graph(title='', x_label='', y_label='', fig_size=None):\n",
    "    fig = plt.figure()\n",
    "    if fig_size != None:\n",
    "        fig.set_size_inches(fig_size[0], fig_size[1])\n",
    "    ax = fig.add_subplot(111)\n",
    "    ax.set_title(title)\n",
    "    ax.set_xlabel(x_label)\n",
    "    ax.set_ylabel(y_label)\n",
    "    \n",
    "# Category names.\n",
    "def categoryName(num):\n",
    "    if num == 0: return \"Quieto\"\n",
    "    elif num == 1: return \"En movimiento\"\n",
    "    else: return \"Caída\""
   ]
  },
  {
   "cell_type": "markdown",
   "metadata": {
    "colab_type": "text",
    "id": "0uOwCk22Nglm"
   },
   "source": [
    "**3.1 Naive Bayes Classifier.**\n",
    "\n",
    "---\n",
    "\n",
    "A continuación, se presenta la clase ***NaiveBayesClassifier***, la cual implementa el modelo de aprendizaje de máquina enunciado al inicio de este informe, esto es, se explica detalladamente el funcionamiento de cada uno de los métodos de la clase, realizando especial énfasis en las funciones auxiliares:\n",
    "\n",
    "\n",
    "*   **3.1.1** $priorProbability(category):$\n",
    "*   **3.1.2** $marginalLikelihood(new_{obs}):$\n",
    "*   **3.1.3** $likeliHood(category, new_{obs}):$\n",
    "*   **3.1.4** $posteriorProbability(category, new_{obs}):$\n",
    "*   **3.1.5** $classifyEntry(new_{obs}):$\n",
    "*   **3.1.6** $distancePoints(point_{1}, point_{2}):$\n",
    "*   **3.1.7** $fourierTransformation(series, num_{samples}, sample_{rate}):$\n",
    "*   **3.1.8** $normalizeFunction(function):$\n",
    "\n",
    "\n"
   ]
  },
  {
   "cell_type": "code",
   "execution_count": 4,
   "metadata": {
    "colab": {},
    "colab_type": "code",
    "id": "2xl1E1y7RGGS"
   },
   "outputs": [],
   "source": [
    "class NaiveBayesClassifier():\n",
    "    \n",
    "    def __init__(self, pathFile, radius = 20):\n",
    "        # Get Data from csv.\n",
    "        #global data\n",
    "        #global radius \n",
    "        \n",
    "        self.data = pd.read_csv(pathFile)\n",
    "        columns = \"category\"\n",
    "        for i in range(0, 60):\n",
    "            columns += \" \" + str(i+1)\n",
    "        self.data.columns = columns.split()\n",
    "        self.radius = radius\n",
    "                \n",
    "    # Category Probability.\n",
    "    def priorProbability(self, category):\n",
    "        num_category = self.data[self.data.category == category][\"category\"].count()\n",
    "        total = self.data[\"category\"].count()\n",
    "        return num_category / total\n",
    "    \n",
    "    # Probability of being \n",
    "    def marginalLikelihood(self, new_obs):\n",
    "        contador = 0\n",
    "        df_len = self.data[\"category\"].count()\n",
    "\n",
    "        for i in range(0, df_len):\n",
    "            function = self.data.iloc[i]\n",
    "            magnitude, freq = self.fourierTransformation(function, len(function), 60)\n",
    "            distance = self.distancePoints(new_obs, self.normalizeFunction(magnitude))\n",
    "\n",
    "            if distance < self.radius:\n",
    "                contador += 1\n",
    "        return contador / df_len\n",
    "    \n",
    "    # Likelihood.\n",
    "    def likeliHood(self, category, new_obs):\n",
    "        contador = 0\n",
    "        df_len = self.data[\"category\"].count()\n",
    "\n",
    "        for i in range(0, df_len):\n",
    "            function = self.data.iloc[i]\n",
    "            magnitude, freq = self.fourierTransformation(function, len(function), 60)\n",
    "            distance = self.distancePoints(new_obs, self.normalizeFunction(magnitude))\n",
    "\n",
    "            if (distance < self.radius and self.data.iloc[i].category == category):\n",
    "                #print(\"distance: \", distance, data.iloc[i].category)\n",
    "                contador += 1\n",
    "\n",
    "        num_category = self.data[self.data.category == category][\"category\"].count()\n",
    "        #print(\"Contador: \", contador)\n",
    "        #print(\"Num Category: \", num_category)\n",
    "        return (contador / num_category)\n",
    "    \n",
    "    # Posterior Probability\n",
    "    def posteriorProbability(self, category, new_obs):\n",
    "\n",
    "        mo, mo_trans = self.fourierTransformation(new_obs, len(new_obs), 60)\n",
    "        mo = self.normalizeFunction(mo)\n",
    "\n",
    "        priorProb = self.priorProbability(category)\n",
    "        marginalLike = self.marginalLikelihood(mo)\n",
    "        likelihood = self.likeliHood(category, mo)\n",
    "        res = (likelihood * priorProb) / marginalLike\n",
    "        \n",
    "        return res\n",
    "    \n",
    "    def classifyEntry(self, new_obs):\n",
    "        categories = list()\n",
    "        for i in [0, 1, 2]:\n",
    "            categories.append(self.posteriorProbability(i, new_obs))\n",
    "        return categories.index(max(categories))\n",
    "    \n",
    "    # EXTRA FUNCTIONS.\n",
    "\n",
    "    # Get pandas dataframe.\n",
    "    def getData(self):\n",
    "        return self.data\n",
    "\n",
    "    # Compute distance between list of points.\n",
    "    def distancePoints(self, p1, p2):\n",
    "        distance = 0\n",
    "        for i in range(1, len(p1)):\n",
    "            distance += (p1[i] - p2[i]) ** 2\n",
    "        return math.sqrt(distance)\n",
    "\n",
    "    # Compute Fourier Transformation.\n",
    "    def fourierTransformation(self, series, num_samples, sample_rate):\n",
    "        fft_out = np.fft.rfft(series)\n",
    "        magnitude_only = [np.sqrt(i.real**2 + i.imag**2)/len(fft_out) for i in fft_out][2:]\n",
    "        frequencies = [(i*1.0/num_samples)*sample_rate for i in range(num_samples//2+1)][2:]\n",
    "        return magnitude_only, frequencies\n",
    "\n",
    "    # Normalize function.\n",
    "    def normalizeFunction(self, function):\n",
    "        # Compute mean value.\n",
    "        mean = 0\n",
    "        for i in function:\n",
    "            mean += i\n",
    "        mean /= len(function)\n",
    "\n",
    "        # Compute std.\n",
    "        std = 0\n",
    "        for i in function: \n",
    "            std += (i-mean)**2\n",
    "        std /= len(function)\n",
    "\n",
    "        # Normalize function.\n",
    "        for i in range(0, len(function)):\n",
    "            function[i] = (function[i] - mean)/std\n",
    "        return function"
   ]
  },
  {
   "cell_type": "markdown",
   "metadata": {
    "colab_type": "text",
    "id": "dXXreSiWnxhJ"
   },
   "source": [
    "**3.2 Enviar correo electrónico.**\n",
    "\n",
    "---\n",
    "\n",
    "A continuación se configuran las variables y métodos para poder realizar envío de correos electrónicos desde Python a los correos indicados por el usuario de la aplicación. Para esto último, el usuario tiene la posibilidad de registrar tantos correos como desee, los cuales van incluídos en una lista. Es importante señalar, que la información enviada por el correo, no sólo incluye una alerta para los familiares y/o amigos del usuario, sino también agrega un mapa generador dinámicamente por Folium, en donde indica donde ocurrió la caída exactamente. Para poder cumplir con las funcionalidades menciondas, se implemetaron dos métodos, a saber:\n",
    "\n",
    "*   **3.1.1** $sendEmail():$\n",
    "*   **3.1.2** $attachGPSLocation(latitude, longitude):$\n"
   ]
  },
  {
   "cell_type": "code",
   "execution_count": 5,
   "metadata": {
    "colab": {},
    "colab_type": "code",
    "id": "n_ZN0S96nw3C"
   },
   "outputs": [],
   "source": [
    "# Import libraries.\n",
    "import smtplib, ssl\n",
    "import email\n",
    "import sys"
   ]
  },
  {
   "cell_type": "code",
   "execution_count": 9,
   "metadata": {
    "colab": {},
    "colab_type": "code",
    "id": "EdoIok1qnw7O"
   },
   "outputs": [],
   "source": [
    "# Set email variables.\n",
    "port = 465\n",
    "password = \"tsiGP^a$U^fL\"\n",
    "sender_email = \"felldownapp@gmail.com\"\n",
    "\n",
    "receiver_email = \"junes9710@gmail.com\"\n",
    "receiver_list = [\"jecepedab@unal.edu.co\", \"judgomezri@unal.edu.co\"]"
   ]
  },
  {
   "cell_type": "code",
   "execution_count": 10,
   "metadata": {
    "colab": {},
    "colab_type": "code",
    "id": "4tNWQttJnw5_"
   },
   "outputs": [],
   "source": [
    "# Generate message.\n",
    "from email.mime.text import MIMEText\n",
    "from email.mime.multipart import MIMEMultipart\n",
    "from email.mime.application import MIMEApplication\n",
    "from email.mime.base import MIMEBase\n",
    "from email import encoders\n",
    "\n",
    "msg = MIMEMultipart()\n",
    "msg[\"From\"] = sender_email\n",
    "msg[\"To\"] = receiver_email\n",
    "msg[\"Subject\"] = \"Alerta de Caída\"\n",
    "\n",
    "msg_content = MIMEText(open(\"./mensaje.html\", \"rb\").read(), \"html\", \"utf-8\")\n",
    "msg.attach(msg_content)"
   ]
  },
  {
   "cell_type": "code",
   "execution_count": 11,
   "metadata": {
    "colab": {},
    "colab_type": "code",
    "id": "fc7BdgGVnwyB"
   },
   "outputs": [],
   "source": [
    "# Send email function.\n",
    "def sendEmail():\n",
    "    \n",
    "    # Set context.\n",
    "    context = ssl.create_default_context()\n",
    "    print(\"Enviado correo electrónico...\")\n",
    "\n",
    "    # Send email.\n",
    "    with smtplib.SMTP_SSL(\"smtp.gmail.com\", port, context = context) as server:\n",
    "        try:\n",
    "            server.login(sender_email, password)\n",
    "            server.sendmail(sender_email, receiver_list, msg.as_string())\n",
    "            print(\"Correo enviado a: \", receiver_list)\n",
    "            server.quit()\n",
    "        except:\n",
    "            print(\"Unknown Error\")\n",
    "            \n",
    "            \n",
    "# Attach GPS Location        \n",
    "def attachGPSLocation(latitude=4.63716, longitude=-74.08230):\n",
    "    \n",
    "    # Detele map first.\n",
    "    if(os.path.isfile(\"./map.png\")):\n",
    "        os.remove(\"./map.png\")\n",
    "    \n",
    "    # Generate dynamic map.\n",
    "    print(\"Generando mapa del lugar de la caida...\")\n",
    "    map_ = folium.Map(width=1024,height=768,location=[latitude, longitude], zoom_start=15)\n",
    "    folium.Marker([4.63716, -74.08230]).add_to(map_)\n",
    "    map_.save(\"map.html\")\n",
    "    imgkit.from_file(\"map.html\", \"map.png\", config = config)\n",
    "    \n",
    "    # Attach map to message.\n",
    "    print(\"Generando correo...\")\n",
    "    with open('./map.png', 'rb') as f:\n",
    "        # set attachment mime and file name, the image type is png\n",
    "        mime = MIMEBase('image', 'png', filename='felldown_location.png')\n",
    "        # add required header data:\n",
    "        mime.add_header('Content-Disposition', 'attachment', filename='felldown_location.png')\n",
    "        mime.add_header('X-Attachment-Id', '0')\n",
    "        mime.add_header('Content-ID', '<0>')\n",
    "        # read attachment file content into the MIMEBase object\n",
    "        mime.set_payload(f.read())\n",
    "        # encode with base64\n",
    "        encoders.encode_base64(mime)\n",
    "        # add MIMEBase object to MIMEMultipart object\n",
    "        msg.attach(mime)"
   ]
  },
  {
   "cell_type": "markdown",
   "metadata": {
    "colab_type": "text",
    "id": "deIFsbultZKv"
   },
   "source": [
    "**3.3 Entrenamiento del Clasificador.**\n",
    "\n",
    "---\n",
    "En este punto, se cargan los datos de entrenamiento del algoritmo, y se inicializa el clasificador."
   ]
  },
  {
   "cell_type": "code",
   "execution_count": 12,
   "metadata": {
    "colab": {},
    "colab_type": "code",
    "id": "kRoNKH0x2BUw"
   },
   "outputs": [],
   "source": [
    "# Get training data.\n",
    "pathFile =  \"./acc_data4.csv\"\n",
    "df = pd.read_csv(pathFile)\n",
    "\n",
    "# Initialize classifier.\n",
    "classifier = NaiveBayesClassifier(pathFile, radius = 20)"
   ]
  },
  {
   "cell_type": "markdown",
   "metadata": {
    "colab_type": "text",
    "id": "w6MzqVT9tr2L"
   },
   "source": [
    "**3.4 Testo del Clasificador.**\n",
    "\n",
    "---\n",
    "\n",
    "El siguiente código, inicializa un socket por medio del protocolo UDP, el cual se encarga de recibir la información proveniente del dispositivo móvil asociado con la aplicación. Una vez se ha confirmado la llegada de 60 muestras relacionadas con el comportamiento del acelerometro, el algoritmo procesa los datos, para luego clasificarlos, definiendo si el celular se encuentra quieto, en movimiento, o si se ha caído. En caso en que no se reporte ninguna anomalía (es decir, el celular no se ha caído), el algoritmo sigue recibiendo, procesando y clasificando los datos enviados por el celular; si este no es el caso, y se ha detectado una caída, el algoritmo da inicio a una cuenta regresiva de 10 segundos, la cual le permite al usuario confirmar si se ha caído; en caso de no recibir respuesta, se envía automáticamente una alerta a los correos ingresados por el usuario."
   ]
  },
  {
   "cell_type": "code",
   "execution_count": 13,
   "metadata": {
    "scrolled": true
   },
   "outputs": [
    {
     "name": "stdout",
     "output_type": "stream",
     "text": [
      "Host Listening...\n",
      "Estado del celular:  quieto\n",
      "Estado del celular:  quieto\n",
      "Estado del celular:  quieto\n",
      "Estado del celular:  caida\n",
      "Caida detectada. Confirmar >> Y/N ==> Y\n",
      "Generando mapa del lugar de la caida...\n",
      "Loading page (1/2)\n",
      "Rendering (2/2)                                                    \n",
      "Done                                                               \n",
      "Generando correo...\n",
      "Enviado correo electrónico...\n",
      "Correo enviado a:  ['jecepedab@unal.edu.co', 'judgomezri@unal.edu.co']\n",
      "Fin del programa\n"
     ]
    }
   ],
   "source": [
    "UDP_IP = \"192.168.0.6\" #\"10.203.161.223\"     #\"192.168.0.8\" #\"192.168.43.156\" #0.14\n",
    "UDP_PORT = 5556\n",
    "DECIMALS = 3\n",
    "\n",
    "# Start socket server.\n",
    "sock = socket.socket(socket.AF_INET, socket.SOCK_DGRAM)\n",
    "sock.bind((UDP_IP, UDP_PORT))\n",
    "print(\"Host Listening...\")\n",
    "\n",
    "# Initialize Acelerometro\n",
    "acelerometro = list()\n",
    "for i in range(0, 4):\n",
    "    acelerometro.append(list())\n",
    "    \n",
    "contador = 0    \n",
    "FRAMES = 60\n",
    "\n",
    "start_time = time.time()\n",
    "\n",
    "while True:\n",
    "    while contador < FRAMES:\n",
    "\n",
    "        # Recieve data from socket.\n",
    "        data_cellphone, addr = sock.recvfrom(2048) # buffer size is 1024 bytes.\n",
    "        info = str(data_cellphone, 'utf-8')\n",
    "\n",
    "        #print(info)\n",
    "        \n",
    "        # Process Data.\n",
    "        info = info.replace(\" \", \"\")\n",
    "        lista = info.split(\",\")    \n",
    "        length = len(lista)\n",
    "        for i in range(0, length):\n",
    "            lista[i] = round(float(lista[i]), DECIMALS)        \n",
    "\n",
    "        # Print values.\n",
    "        #print(lista)\n",
    "        #print(acelerometro)\n",
    "\n",
    "        # Add Values in list.\n",
    "        acelerometro[0].append(lista[2])\n",
    "        acelerometro[1].append(lista[3])\n",
    "        acelerometro[2].append(lista[4])\n",
    "        acelerometro[3].append(lista[2] + lista[3] + lista[4])\n",
    "\n",
    "        contador += 1\n",
    "\n",
    "    obs = acelerometro[3]\n",
    "    series = pd.Series((i for i in acelerometro[3])).values\n",
    "\n",
    "    res = classifier.classifyEntry(series)\n",
    "    print(\"Estado del celular: \", categoryName(res)) \n",
    "\n",
    "    if(res == 2):\n",
    "        if(input(\"Caida detectada. Confirmar >> Y/N ==> \")) == \"Y\":\n",
    "            attachGPSLocation()\n",
    "            sendEmail()\n",
    "            break\n",
    "        else:\n",
    "            print(\"Continuando busqueda...\")\n",
    "\n",
    "    #print(\"resetear variables\")\n",
    "    \n",
    "    contador = 0\n",
    "    acelerometro.clear()\n",
    "    for i in range(0, 4):\n",
    "        acelerometro.append(list())\n",
    "    info = \"\"\n",
    "    lista.clear()\n",
    "\n",
    "print(\"Fin del programa\")"
   ]
  },
  {
   "cell_type": "markdown",
   "metadata": {
    "colab_type": "text",
    "id": "kFd6iJP_Aw3C"
   },
   "source": [
    "**4. Conclusiones**\n",
    "\n",
    "---\n",
    "\n",
    "1. Se puede seguir mejorando el programa a traves de una mayor cantidad de datos de entrenamiento. Lo anterior, va a determinar la sensibildiad del programa. Se tiene que entrenar más al programa en relación al movimiento. En este momento, cualquier movimiento brusco lo detecta como una caída. \n",
    "2. Para futuras lineas de investigacion en esta aplicacion, se pueden explorar nuevos modelos de aprendizaje de máquina para la clasificación de los datos del acelerometro. Esto puede llevar a tomar decisiones más acertadas.\n",
    "3. Tambien se podria explorar el desarrollo de una aplicación móvil"
   ]
  },
  {
   "cell_type": "markdown",
   "metadata": {
    "colab_type": "text",
    "id": "xxCsPpKuA7zI"
   },
   "source": [
    "**5. BIBLIOGRAFÍA (EJEMPLO)**\n",
    "\n",
    "---\n",
    "\n",
    "1.  R. Gonzalez, ‎R. Woods (2011). Digital Imagen Processing. New Yearsy, USA: Pearson Education. [Libro de Visión por computador](http://web.ipac.caltech.edu/staff/fmasci/home/astro_refs/Digital_Image_Processing_2ndEd.pdf)\n",
    "2.  Mohamed Nasser. [Mohamed Nasser]. (2014, 07-4).  Otsu's Segmentation with Demo Duration. Recuperado de [link](https://www.youtube.com/watch?v=mnmjZOLjoBA).\n",
    "3.  M. Sezgin, B. Sankur (2004). Survey over image thresholding techniques and quantitative performance evaluation. Finland: Journal of Electronic Imaging.\n",
    "4. M. Jones, B. Silverman (1951). An Important Contribution to Nonparametric Discriminant Analysis and Density Estimation. United Kingdom: School of Mathematical Sciences, University of Bath.\n",
    "5. Grupo de Inteligencia Artificial Computacional. (s.f) Visión por computador. España: Universidad Politécnica de Valencia."
   ]
  }
 ],
 "metadata": {
  "colab": {
   "collapsed_sections": [],
   "name": "Proyecto Detector de Caídas",
   "provenance": [],
   "version": "0.3.2"
  },
  "kernelspec": {
   "display_name": "Python 3",
   "language": "python",
   "name": "python3"
  },
  "language_info": {
   "codemirror_mode": {
    "name": "ipython",
    "version": 3
   },
   "file_extension": ".py",
   "mimetype": "text/x-python",
   "name": "python",
   "nbconvert_exporter": "python",
   "pygments_lexer": "ipython3",
   "version": "3.7.3"
  }
 },
 "nbformat": 4,
 "nbformat_minor": 1
}
